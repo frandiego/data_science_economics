{
 "cells": [
  {
   "cell_type": "markdown",
   "metadata": {},
   "source": [
    "# Dictionary exercises\n",
    "\n",
    "\n",
    "### Cheat Sheet for Dictionaries\n",
    "https://ehmatthes.github.io/pcc/cheatsheets/README.html\n",
    "https://github.com/ehmatthes/pcc/releases/download/v1.0.0/beginners_python_cheat_sheet_pcc_dictionaries.pdf\n",
    "\n",
    "\n"
   ]
  },
  {
   "cell_type": "markdown",
   "metadata": {},
   "source": [
    "***"
   ]
  },
  {
   "cell_type": "markdown",
   "metadata": {},
   "source": [
    "<div class=\"alert alert-block alert-info\">\n",
    "<b>Exercise 1:</b> </div>\n",
    "\n",
    "Create a dictionary from the following list, **names** should be the `keys` and **ages** the `values`, name the resulting dictionary `friends`"
   ]
  },
  {
   "cell_type": "code",
   "execution_count": 107,
   "metadata": {},
   "outputs": [],
   "source": [
    "names = ['Chandler', 'Phoebe',  'Monika', 'Joey' ]\n",
    "ages  = [25, 28, 27, 26]"
   ]
  },
  {
   "cell_type": "markdown",
   "metadata": {},
   "source": [
    "<div class=\"alert alert-block alert-info\">\n",
    "<b>Exercise 2:</b> </div>\n",
    "\n",
    "Add the following dictionary to the previous one"
   ]
  },
  {
   "cell_type": "code",
   "execution_count": 109,
   "metadata": {},
   "outputs": [],
   "source": [
    "new_friends = {'Rachel': 24, 'Ross': 27}\n"
   ]
  },
  {
   "cell_type": "markdown",
   "metadata": {},
   "source": [
    "<div class=\"alert alert-block alert-info\">\n",
    "<b>Exercise 3:</b></div>\n",
    "\n",
    "Get the age of **Joey**"
   ]
  },
  {
   "cell_type": "markdown",
   "metadata": {},
   "source": [
    "<div class=\"alert alert-block alert-info\">\n",
    "<b>Exercise 4:</b></div>\n",
    "\n",
    "Calculate the mean of friends ages"
   ]
  },
  {
   "cell_type": "markdown",
   "metadata": {},
   "source": [
    "<div class=\"alert alert-block alert-info\">\n",
    "<b>Exercise 5:</b></div>\n",
    "\n",
    "Check if `Gunther` is in the dictionary"
   ]
  },
  {
   "cell_type": "markdown",
   "metadata": {},
   "source": [
    "<div class=\"alert alert-block alert-info\">\n",
    "<b>Exercise 6:</b></div>\n",
    "\n",
    "Try to get the age of `Gunther`, what's the result?"
   ]
  },
  {
   "cell_type": "markdown",
   "metadata": {},
   "source": [
    "<div class=\"alert alert-block alert-info\">\n",
    "<b>Exercise 7:</b></div>\n",
    "\n",
    "Try to the get age of `Gunther` but if is not in the dictionary, return 27"
   ]
  },
  {
   "cell_type": "markdown",
   "metadata": {},
   "source": [
    "<div class=\"alert alert-block alert-info\">\n",
    "<b>Exercise 8:</b></div>\n",
    "\n",
    "Create the variable `phoebe_age` with the age of Phoebe and remove it from the dictionary"
   ]
  },
  {
   "cell_type": "markdown",
   "metadata": {},
   "source": [
    "<div class=\"alert alert-block alert-info\">\n",
    "<b>Exercise 9:</b></div>\n",
    "\n",
    "Remove the last element of the dictionary"
   ]
  },
  {
   "cell_type": "markdown",
   "metadata": {},
   "source": [
    "<div class=\"alert alert-block alert-info\">\n",
    "<b>Exercise 10:</b>  </div>\n",
    "\n",
    "Update the dictionary with the removed data (Add again Phoebe and Ross age)"
   ]
  },
  {
   "cell_type": "markdown",
   "metadata": {},
   "source": [
    "<div class=\"alert alert-block alert-info\">\n",
    "<b>Bonus Track</b>  </div>\n",
    "Concatenate those dictionaries"
   ]
  },
  {
   "cell_type": "code",
   "execution_count": 120,
   "metadata": {},
   "outputs": [
    {
     "name": "stdout",
     "output_type": "stream",
     "text": [
      "hello dictionary\n",
      "{0: 'h', 1: 'e', 2: 'l', 3: 'l', 4: 'o'}\n",
      "bye dictionary\n",
      "{0: 'b', 1: 'y', 2: 'e'}\n"
     ]
    }
   ],
   "source": [
    "hello = dict(enumerate('hello'))\n",
    "bye = dict(enumerate('bye'))\n",
    "print('hello dictionary')\n",
    "print(hello)\n",
    "\n",
    "print('bye dictionary')\n",
    "print(bye)"
   ]
  },
  {
   "cell_type": "code",
   "execution_count": null,
   "metadata": {},
   "outputs": [],
   "source": []
  }
 ],
 "metadata": {
  "kernelspec": {
   "display_name": "Python 3",
   "language": "python",
   "name": "python3"
  },
  "language_info": {
   "codemirror_mode": {
    "name": "ipython",
    "version": 3
   },
   "file_extension": ".py",
   "mimetype": "text/x-python",
   "name": "python",
   "nbconvert_exporter": "python",
   "pygments_lexer": "ipython3",
   "version": "3.8.3"
  }
 },
 "nbformat": 4,
 "nbformat_minor": 4
}
