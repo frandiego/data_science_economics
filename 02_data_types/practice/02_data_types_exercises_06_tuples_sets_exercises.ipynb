{
 "cells": [
  {
   "cell_type": "markdown",
   "metadata": {},
   "source": [
    "# Tuples and Set exercises\n"
   ]
  },
  {
   "cell_type": "markdown",
   "metadata": {},
   "source": [
    "***"
   ]
  },
  {
   "cell_type": "markdown",
   "metadata": {},
   "source": [
    "\n",
    "<div class=\"alert alert-block alert-info\">\n",
    "<b>Exercise 1:</b> </div>\n",
    "\n",
    "Using the following lists, create a tuple of 4 elements, in which each element, is a tuple with like (name, age), name it `friends`"
   ]
  },
  {
   "cell_type": "code",
   "execution_count": 2,
   "metadata": {},
   "outputs": [],
   "source": [
    "names = ['Chandler', 'Phoebe',  'Monika', 'Joey' ]\n",
    "ages  = [25, 28, 27, 26]"
   ]
  },
  {
   "cell_type": "markdown",
   "metadata": {},
   "source": [
    "<div class=\"alert alert-block alert-info\">\n",
    "<b>Exercise 2:</b> </div>\n",
    "Create a dict using the previous nested tuple"
   ]
  },
  {
   "cell_type": "markdown",
   "metadata": {},
   "source": [
    "<div class=\"alert alert-block alert-info\">\n",
    "<b>Exercise 3:</b></div>\n",
    "\n",
    "Even more nested. Create a tuple of tuples with tuples. \n",
    "A tuple of 4 elements in which each element is like (real_name, (name, age))"
   ]
  },
  {
   "cell_type": "code",
   "execution_count": 9,
   "metadata": {},
   "outputs": [],
   "source": [
    "names = ['Chandler', 'Phoebe',  'Monika', 'Joey' ]\n",
    "real_names = ['Matthew Perry', 'Lisa Kudrow', 'Courteney Cox', 'Matt LeBlanc']\n",
    "ages  = [25, 28, 27, 26]"
   ]
  },
  {
   "cell_type": "markdown",
   "metadata": {},
   "source": [
    "<div class=\"alert alert-block alert-info\">\n",
    "<b>Exercise 4:</b></div>\n",
    "\n",
    "Create a two set like theese\n",
    "```python\n",
    "['foo', 'bar', 'baz']\n",
    "['baz', 'qux', 'quux']\n",
    "```"
   ]
  },
  {
   "cell_type": "markdown",
   "metadata": {},
   "source": [
    "<div class=\"alert alert-block alert-info\">\n",
    "<b>Exercise 5:</b></div>\n",
    "\n",
    "create a set with all the letter in both words"
   ]
  },
  {
   "cell_type": "markdown",
   "metadata": {},
   "source": [
    "<img src=\"https://files.realpython.com/media/t.ca57b915cec6.png\" width=200 height=60 />\n"
   ]
  },
  {
   "cell_type": "markdown",
   "metadata": {},
   "source": [
    "<div class=\"alert alert-block alert-info\">\n",
    "<b>Exercise 6:</b></div>\n",
    "\n",
    "Create a set with the intersection between the two sets"
   ]
  },
  {
   "cell_type": "markdown",
   "metadata": {},
   "source": [
    "<img src=\"https://files.realpython.com/media/t.9c6d33717cdc.png\" width=200 height=60 />"
   ]
  },
  {
   "cell_type": "markdown",
   "metadata": {},
   "source": [
    "<div class=\"alert alert-block alert-info\">\n",
    "<b>Exercise 7:</b></div>\n",
    "\n",
    "Create a set with those elements in x1 but not in x2"
   ]
  },
  {
   "cell_type": "markdown",
   "metadata": {},
   "source": [
    "<img src=\"https://files.realpython.com/media/t.a90b4c323d99.png\" width=200 height=60 />"
   ]
  },
  {
   "cell_type": "markdown",
   "metadata": {},
   "source": [
    "<div class=\"alert alert-block alert-info\">\n",
    "<b>Exercise 8:</b></div>\n",
    "\n",
    "Create a set with elements in x1 but not in x2 and elements in x2 but not in x1"
   ]
  },
  {
   "cell_type": "markdown",
   "metadata": {},
   "source": [
    "<img src=\"https://files.realpython.com/media/t.604de51646cc.png\" width=200 height=60 />"
   ]
  },
  {
   "cell_type": "markdown",
   "metadata": {},
   "source": [
    "<div class=\"alert alert-block alert-info\">\n",
    "<b>Exercise 9:</b></div>\n",
    "Add the element `az` to the set x1. How many time could we apply this method?"
   ]
  },
  {
   "cell_type": "markdown",
   "metadata": {},
   "source": [
    "<div class=\"alert alert-block alert-info\">\n",
    "<b>Exercise 10:</b></div>\n",
    "Remove the element `az` to the set x1. How many time could we apply this method?"
   ]
  },
  {
   "cell_type": "markdown",
   "metadata": {},
   "source": [
    "<div class=\"alert alert-block alert-info\">\n",
    "<b>Bonus Track</b>  </div>\n",
    "Check if the element `az` exist, if not remove it"
   ]
  }
 ],
 "metadata": {
  "kernelspec": {
   "display_name": "Python 3",
   "language": "python",
   "name": "python3"
  },
  "language_info": {
   "codemirror_mode": {
    "name": "ipython",
    "version": 3
   },
   "file_extension": ".py",
   "mimetype": "text/x-python",
   "name": "python",
   "nbconvert_exporter": "python",
   "pygments_lexer": "ipython3",
   "version": "3.8.3"
  }
 },
 "nbformat": 4,
 "nbformat_minor": 4
}
