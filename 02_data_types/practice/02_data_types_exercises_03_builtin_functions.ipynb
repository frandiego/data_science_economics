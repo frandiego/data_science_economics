{
  "nbformat": 4,
  "nbformat_minor": 0,
  "metadata": {
    "kernelspec": {
      "display_name": "Python 3",
      "language": "python",
      "name": "python3"
    },
    "language_info": {
      "codemirror_mode": {
        "name": "ipython",
        "version": 3
      },
      "file_extension": ".py",
      "mimetype": "text/x-python",
      "name": "python",
      "nbconvert_exporter": "python",
      "pygments_lexer": "ipython3",
      "version": "3.8.6"
    },
    "colab": {
      "name": "pc_01_data_types_exercises_03_builtin_functions.ipynb",
      "provenance": []
    }
  },
  "cells": [
    {
      "cell_type": "markdown",
      "metadata": {
        "id": "5kJ0xPn6i71K"
      },
      "source": [
        "# Built in Functions"
      ]
    },
    {
      "cell_type": "markdown",
      "metadata": {
        "id": "wRHHu4wJi71L"
      },
      "source": [
        "Python 3 comes with many built-in functions that you can readily use in any program that you’re working on. Some functions enable you to convert data types, and others are specific to a certain type, like strings.\n",
        "\n",
        "We will go through a few of the built-in functions that can be used with numeric data types in Python 3.\n",
        "\n",
        "* `abs()` for absolute value\n",
        "* `divmod()` to find a quotient and remainder simultaneously\n",
        "* `pow()` to raise a number to a certain power\n",
        "* `round()` to round a number to a certain decimal point\n",
        "* `sum()` to calculate the sum of the items in an iterable data type\n",
        "\n",
        "\n",
        "Becoming familiar with these methods can give you more flexibility when programming so that you can make informed decisions when deciding what operators and functions to use. We’ll go through some of these functions with examples throughout this tutorial.\n",
        "\n",
        "## 1. Absolute Value\n",
        "The built-in function abs() will return the absolute value of a number that you pass to it. In mathematics, absolute value refers to the distance that a number is on the number line from 0. Absolute value does not take into consideration which direction from zero the number lies, meaning that negative numbers will be represented with positive numbers.\n",
        "\n",
        "To give some examples, the absolute value of 15 is 15, the absolute value of -74 is 74, and the absolute value of 0 is 0.\n",
        "\n",
        "Absolute value is an important concept for calculus and real analysis, but it also makes sense when we think about everyday situations like distance travelled. For example, if we are trying to get somewhere that is 58 miles away but we travel 93 miles instead, we overshot our original destination. If we want to calculate now how many miles left to travel to get to the intended destination, we’ll end up with a negative number, but we can’t travel negative miles.\n"
      ]
    },
    {
      "cell_type": "markdown",
      "metadata": {
        "id": "LShDMrhli71L"
      },
      "source": [
        "\n",
        "\n",
        "<div class=\"alert alert-block alert-info\">\n",
        "<b>Exercise 1:</b>  Calculate how many miles destination is from current location</div>\n"
      ]
    },
    {
      "cell_type": "code",
      "metadata": {
        "id": "3sOucwR5i71L"
      },
      "source": [
        "miles_from_origin = 58   # Miles destination from origin\n",
        "miles_travelled   = 93    # Miles travelled from origin to destination (too many)"
      ],
      "execution_count": null,
      "outputs": []
    },
    {
      "cell_type": "markdown",
      "metadata": {
        "id": "ta1KAOxji71L"
      },
      "source": [
        "#### 1.1 Visualize ABS"
      ]
    },
    {
      "cell_type": "code",
      "metadata": {
        "id": "y36RDX9Ui71L",
        "outputId": "cb9a2f72-41c7-47d6-a73d-15059e9b68c5"
      },
      "source": [
        "import matplotlib.pyplot as plt\n",
        "import numpy as np\n",
        "x = np.linspace(-10, 10, 100)\n",
        "y = np.linspace(-10, 10, 100)\n",
        "plt.plot(x, y, label='linear')"
      ],
      "execution_count": null,
      "outputs": [
        {
          "output_type": "execute_result",
          "data": {
            "text/plain": [
              "[<matplotlib.lines.Line2D at 0x113fbfa60>]"
            ]
          },
          "metadata": {
            "tags": []
          },
          "execution_count": 6
        },
        {
          "output_type": "display_data",
          "data": {
            "image/png": "[encoded data removed]",
            "text/plain": [
              "<Figure size 432x288 with 1 Axes>"
            ]
          },
          "metadata": {
            "tags": [],
            "needs_background": "light"
          }
        }
      ]
    },
    {
      "cell_type": "code",
      "metadata": {
        "id": "V8Cn7bTki71M",
        "outputId": "b15ed70b-f58d-4f43-87a1-35da2da1cac7"
      },
      "source": [
        "y = np.abs(np.linspace(-10, 10, 100))\n",
        "plt.plot(x, y, label='linear')"
      ],
      "execution_count": null,
      "outputs": [
        {
          "output_type": "execute_result",
          "data": {
            "text/plain": [
              "[<matplotlib.lines.Line2D at 0x11402e100>]"
            ]
          },
          "metadata": {
            "tags": []
          },
          "execution_count": 7
        },
        {
          "output_type": "display_data",
          "data": {
            "image/png": "[encoded data removed]",
            "text/plain": [
              "<Figure size 432x288 with 1 Axes>"
            ]
          },
          "metadata": {
            "tags": [],
            "needs_background": "light"
          }
        }
      ]
    },
    {
      "cell_type": "markdown",
      "metadata": {
        "id": "M-BA8fSsi71N"
      },
      "source": [
        "<div class=\"alert alert-block alert-info\">\n",
        "<b>Exercise 2:</b>   Develop a function that returns the absolute value without using the abs function</div>\n",
        "\n",
        "\n",
        "```python\n",
        "def absolute_value(x):\n",
        "    # return the absolute value of x \n",
        "```"
      ]
    },
    {
      "cell_type": "markdown",
      "metadata": {
        "id": "fMXIEZ9mi71N"
      },
      "source": [
        "### 2. `divmod` Finding the Quotient and Remainder in One Function\n",
        "Because both floor division (which returns a quotient), and modulo division (which returns a remainder), are closely related, it can be useful to use a function that combines both operations at once.\n",
        "\n",
        "The Python built-in function `divmod()` combines the two, returning first the quotient that comes from floor division, then the remainder.\n",
        "\n",
        "Because `divmod()` will be working with two numbers, we need to pass two numbers to it.\n",
        "\n"
      ]
    },
    {
      "cell_type": "markdown",
      "metadata": {
        "id": "BZu82o4Qi71N"
      },
      "source": [
        "\n",
        "<div class=\"alert alert-block alert-info\">\n",
        "<b>Exercise 3:</b>   Decide how many words per page you want in your book</div>\n",
        "\n",
        "\n",
        "```python\n",
        "def division_modulo(x):\n",
        "    # return the divmod value of x \n",
        "```"
      ]
    },
    {
      "cell_type": "markdown",
      "metadata": {
        "id": "5cG3Ugyli71N"
      },
      "source": [
        "Let’s say we have written a book that is 80,000 words long. With our publisher, we have the option of either 300 or 250 words per page, and we’d like to get a sense of how many pages we would have in each case. With divmod() we can see immediately how many pages we would have, and how many words would be spilled over onto an additional page."
      ]
    },
    {
      "cell_type": "code",
      "metadata": {
        "id": "mXwh8Jszi71N"
      },
      "source": [
        "words = 80000       # Number of words total\n",
        "per_page_A = 300    # Option A, 300 words per page\n",
        "per_page_B = 250    # Option B, 25- words per page\n"
      ],
      "execution_count": null,
      "outputs": []
    },
    {
      "cell_type": "markdown",
      "metadata": {
        "id": "HqOxmfphi71N"
      },
      "source": [
        "\n",
        "<div class=\"alert alert-block alert-info\">\n",
        "<b>Exercise 4:</b>   Develop a functions that returns the same values than `divmod` without using it</div>\n",
        "\n",
        "\n",
        "```python\n",
        "def division_modulo(a, b):\n",
        "    # return the divmod of x \n",
        "```"
      ]
    },
    {
      "cell_type": "markdown",
      "metadata": {
        "id": "m22dtAjTi71N"
      },
      "source": [
        "### 3. `pow` Power\n",
        "In Python, you can use the operator ** to raise a number by an exponent, or you can use the built-in function pow() which takes in two numbers."
      ]
    },
    {
      "cell_type": "markdown",
      "metadata": {
        "id": "FA3sDD_Bi71N"
      },
      "source": [
        "\n",
        "<div class=\"alert alert-block alert-info\">\n",
        "<b>Exercise 5:</b>   Let’s say we are doing research on bacteria and want to see how many bacteria we’ll have at the end of the day if we start with 1. The particular bacteria we’re working with doubles each hour, so we’ll be calculating 2 (doubling) to the power of the total number of hours (24 in our case)</div>\n",
        "\n"
      ]
    },
    {
      "cell_type": "markdown",
      "metadata": {
        "id": "KKhfbZuai71N"
      },
      "source": [
        "### Solutions"
      ]
    },
    {
      "cell_type": "code",
      "metadata": {
        "id": "rr225SFfi71N",
        "outputId": "94705f3a-17b3-4f65-98bc-271b6d425358"
      },
      "source": [
        "hours = 24\n",
        "total_bacteria = pow(2,24)\n",
        "print(total_bacteria)"
      ],
      "execution_count": null,
      "outputs": [
        {
          "output_type": "stream",
          "text": [
            "16777216\n"
          ],
          "name": "stdout"
        }
      ]
    },
    {
      "cell_type": "markdown",
      "metadata": {
        "id": "tbCybZqEi71N"
      },
      "source": [
        "\n",
        "<div class=\"alert alert-block alert-info\">\n",
        "<b>Exercise 6:</b>   Develop a functions that returns the same values than `pow` without using it</div>\n",
        "\n",
        "\n",
        "```python\n",
        "def power(a, b):\n",
        "    # return the pow of x \n",
        "```"
      ]
    },
    {
      "cell_type": "markdown",
      "metadata": {
        "id": "uwcdZouMi71N"
      },
      "source": [
        "### 4. `round` Rounding Numbers\n",
        "\n",
        "Being able to quickly and readily round numbers becomes important when working with floats that have a lot of decimal places. The built-in Python function round() takes in two numbers, one to be rounded, and one that specifies the number of decimal places to include."
      ]
    },
    {
      "cell_type": "code",
      "metadata": {
        "id": "KEQxAgSIi71N",
        "outputId": "28564924-0ff6-404b-9954-58b94c0a18ae"
      },
      "source": [
        "x = 1.61803398875\n",
        "print(x)\n",
        "print(round(x, 9))\n",
        "print(round(x, 7))\n",
        "print(round(x, 5))\n",
        "print(round(x, 3))\n",
        "print(round(x, 1))\n",
        "print(round(x))"
      ],
      "execution_count": null,
      "outputs": [
        {
          "output_type": "stream",
          "text": [
            "1.61803398875\n",
            "1.618033989\n",
            "1.618034\n",
            "1.61803\n",
            "1.618\n",
            "1.6\n",
            "2\n"
          ],
          "name": "stdout"
        }
      ]
    },
    {
      "cell_type": "markdown",
      "metadata": {
        "id": "EelVlC2ki71N"
      },
      "source": [
        "\n",
        "<div class=\"alert alert-block alert-info\">\n",
        "<b>Exercise 7:</b>   Develop a functions that returns the same values than `round(x,0)` without using `round` function</div>\n",
        "\n",
        "\n",
        "\n",
        "```python\n",
        "def round_zero(x):\n",
        "    # return x rounded with zero decimals\n",
        "```"
      ]
    },
    {
      "cell_type": "markdown",
      "metadata": {
        "id": "FYFoDckvi71N"
      },
      "source": [
        "## 5. `sum` Calculating a Sum\n",
        "The sum() function is used for calculating sums of numeric compound data types, including lists, tuples, and dictionaries.\n",
        "\n",
        "We can pass a list to the sum() function to add all the items in the list together in order from left to right:"
      ]
    },
    {
      "cell_type": "code",
      "metadata": {
        "id": "34sMrMa6i71N"
      },
      "source": [
        "l = [1,2,3,4,5,6,7,8,9,10]"
      ],
      "execution_count": null,
      "outputs": []
    },
    {
      "cell_type": "markdown",
      "metadata": {
        "id": "dtkPXRRki71N"
      },
      "source": [
        "<div class=\"alert alert-block alert-info\">\n",
        "<b>Exercise 8:</b>   Sum all the elements in previous list</div>"
      ]
    }
  ]
}